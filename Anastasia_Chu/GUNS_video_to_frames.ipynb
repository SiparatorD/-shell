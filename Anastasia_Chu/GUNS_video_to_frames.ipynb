{
  "nbformat": 4,
  "nbformat_minor": 0,
  "metadata": {
    "colab": {
      "provenance": []
    },
    "kernelspec": {
      "name": "python3",
      "display_name": "Python 3"
    },
    "language_info": {
      "name": "python"
    }
  },
  "cells": [
    {
      "cell_type": "code",
      "execution_count": null,
      "metadata": {
        "id": "9R7fJThZEZuo"
      },
      "outputs": [],
      "source": [
        "# Import necessary libraries\n",
        "import cv2\n",
        "from google.colab import drive\n",
        "from google.colab.patches import cv2_imshow\n",
        "import os"
      ]
    },
    {
      "cell_type": "code",
      "source": [
        "# Mount Google Drive\n",
        "drive.mount('/content/drive')"
      ],
      "metadata": {
        "colab": {
          "base_uri": "https://localhost:8080/"
        },
        "id": "nUUbXFwuGd03",
        "outputId": "10cf905d-bc44-4153-f4a0-e720658de20b"
      },
      "execution_count": null,
      "outputs": [
        {
          "output_type": "stream",
          "name": "stdout",
          "text": [
            "Mounted at /content/drive\n"
          ]
        }
      ]
    },
    {
      "cell_type": "code",
      "source": [
        "# Set input video path and output frames directory\n",
        "directory = '/content/drive/MyDrive/GUNS/gun_videos'\n",
        "output_dir = '/content/drive/MyDrive/GUNS/Frames'\n",
        "if not os.path.exists(output_dir):\n",
        "  os.makedirs(output_dir)"
      ],
      "metadata": {
        "id": "wM1m4HhOGk5m"
      },
      "execution_count": null,
      "outputs": []
    },
    {
      "cell_type": "code",
      "source": [
        "for filename in os.listdir(directory):\n",
        "    filepath = os.path.join(directory, filename)\n",
        "    cap = cv2.VideoCapture(filepath)\n",
        "\n",
        "    # Loop through video frames and save as PNG images\n",
        "    frame_count = 0\n",
        "    while cap.isOpened():\n",
        "      ret, frame = cap.read()\n",
        "      if not ret:\n",
        "        break\n",
        "      frame_count += 1\n",
        "      frame_path = os.path.join(output_dir, f'{filename}_frame_{frame_count:06}.png')\n",
        "      cv2.imwrite(frame_path, frame)\n",
        "\n",
        "    # Release video capture and print success message\n",
        "    cap.release()\n",
        "    print(f'Successfully saved {frame_count} frames as PNG images to {output_dir}')\n"
      ],
      "metadata": {
        "colab": {
          "base_uri": "https://localhost:8080/"
        },
        "id": "292sBb6sLFho",
        "outputId": "9b2d31bd-8167-4f01-b73c-acf50a4b3110"
      },
      "execution_count": null,
      "outputs": [
        {
          "output_type": "stream",
          "name": "stdout",
          "text": [
            "Successfully saved 200 frames as PNG images to /content/drive/MyDrive/GUNS/Frames\n",
            "Successfully saved 178 frames as PNG images to /content/drive/MyDrive/GUNS/Frames\n",
            "Successfully saved 335 frames as PNG images to /content/drive/MyDrive/GUNS/Frames\n",
            "Successfully saved 275 frames as PNG images to /content/drive/MyDrive/GUNS/Frames\n",
            "Successfully saved 180 frames as PNG images to /content/drive/MyDrive/GUNS/Frames\n",
            "Successfully saved 247 frames as PNG images to /content/drive/MyDrive/GUNS/Frames\n",
            "Successfully saved 238 frames as PNG images to /content/drive/MyDrive/GUNS/Frames\n",
            "Successfully saved 283 frames as PNG images to /content/drive/MyDrive/GUNS/Frames\n",
            "Successfully saved 154 frames as PNG images to /content/drive/MyDrive/GUNS/Frames\n",
            "Successfully saved 247 frames as PNG images to /content/drive/MyDrive/GUNS/Frames\n",
            "Successfully saved 173 frames as PNG images to /content/drive/MyDrive/GUNS/Frames\n",
            "Successfully saved 191 frames as PNG images to /content/drive/MyDrive/GUNS/Frames\n"
          ]
        }
      ]
    }
  ]
}
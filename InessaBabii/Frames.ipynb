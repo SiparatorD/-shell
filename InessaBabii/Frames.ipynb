{
  "nbformat": 4,
  "nbformat_minor": 0,
  "metadata": {
    "colab": {
      "provenance": []
    },
    "kernelspec": {
      "name": "python3",
      "display_name": "Python 3"
    },
    "language_info": {
      "name": "python"
    }
  },
  "cells": [
    {
      "cell_type": "code",
      "source": [
        "# Import necessary libraries\n",
        "import cv2\n",
        "from google.colab import drive\n",
        "from google.colab.patches import cv2_imshow\n",
        "import os"
      ],
      "metadata": {
        "id": "aO_vByp51jwn"
      },
      "execution_count": null,
      "outputs": []
    },
    {
      "cell_type": "code",
      "source": [
        "# Mount Google Drive\n",
        "drive.mount('/content/drive')"
      ],
      "metadata": {
        "colab": {
          "base_uri": "https://localhost:8080/"
        },
        "id": "5CSoiUWK1s8i",
        "outputId": "a8253e8a-35ed-4d23-d52b-65e13556468d"
      },
      "execution_count": null,
      "outputs": [
        {
          "output_type": "stream",
          "name": "stdout",
          "text": [
            "Mounted at /content/drive\n"
          ]
        }
      ]
    },
    {
      "cell_type": "code",
      "source": [
        "# Set video path and read video\n",
        "video_name='2662.mp4'\n",
        "video_path = os.path.join('/content/drive/MyDrive/Guns', video_name)\n",
        "cap = cv2.VideoCapture(video_path)"
      ],
      "metadata": {
        "id": "ZwWD4gjs119O"
      },
      "execution_count": null,
      "outputs": []
    },
    {
      "cell_type": "code",
      "source": [
        "# Create output directory to store frames\n",
        "output_dir = '/content/drive/MyDrive/Guns/Frames'\n",
        "if not os.path.exists(output_dir):\n",
        "  os.makedirs(output_dir)"
      ],
      "metadata": {
        "id": "GNmsGh2S6Lj5"
      },
      "execution_count": null,
      "outputs": []
    },
    {
      "cell_type": "code",
      "source": [
        "# Loop through video frames and save as PNG images\n",
        "frame_count = 0\n",
        "while cap.isOpened():\n",
        "  ret, frame = cap.read()\n",
        "  if not ret:\n",
        "    break\n",
        "  frame_count += 1\n",
        "  frame_path = os.path.join(output_dir, f'{video_name}_frame_{frame_count:06}.png')\n",
        "  cv2.imwrite(frame_path, frame)"
      ],
      "metadata": {
        "id": "SDHNSyXN64ru"
      },
      "execution_count": null,
      "outputs": []
    },
    {
      "cell_type": "code",
      "source": [
        "# Release video capture and print success message\n",
        "cap.release()\n",
        "print(f'Successfully saved {frame_count} frames as PNG images to {output_dir}')"
      ],
      "metadata": {
        "id": "mrJxlNGL7R0C",
        "outputId": "22081b5d-08fa-4150-b944-7bb07e490939",
        "colab": {
          "base_uri": "https://localhost:8080/"
        }
      },
      "execution_count": null,
      "outputs": [
        {
          "output_type": "stream",
          "name": "stdout",
          "text": [
            "Successfully saved 485 frames as PNG images to /content/drive/MyDrive/Guns/Frames\n"
          ]
        }
      ]
    },
    {
      "cell_type": "code",
      "source": [],
      "metadata": {
        "id": "1x9J119gU66Q"
      },
      "execution_count": null,
      "outputs": []
    },
    {
      "cell_type": "code",
      "source": [],
      "metadata": {
        "id": "0GaYzhJKU64J"
      },
      "execution_count": null,
      "outputs": []
    },
    {
      "cell_type": "code",
      "source": [],
      "metadata": {
        "id": "lJk7u3ndU60o"
      },
      "execution_count": null,
      "outputs": []
    },
    {
      "cell_type": "markdown",
      "source": [],
      "metadata": {
        "id": "X-lt01apU51e"
      }
    },
    {
      "cell_type": "code",
      "execution_count": null,
      "metadata": {
        "id": "Vk1PxJ9BqqXn"
      },
      "outputs": [],
      "source": [
        "# Код целиком\n",
        "# Import necessary libraries\n",
        "import cv2\n",
        "from google.colab import drive\n",
        "from google.colab.patches import cv2_imshow\n",
        "import os\n",
        "\n",
        "# Mount Google Drive\n",
        "drive.mount('/content/drive')\n",
        "# Set video path and read video\n",
        "video_name='03.mp4'\n",
        "video_path = os.path.join('/content/drive/MyDrive/AI-University/sample_data/ARMS/Workspace/gun_videos', video_name)\n",
        "cap = cv2.VideoCapture(video_path)\n",
        "\n",
        "# Create output directory to store frames\n",
        "output_dir = '/content/drive/MyDrive/AI-University/sample_data/ARMS/Workspace/gun_videos/frames'\n",
        "if not os.path.exists(output_dir):\n",
        "  os.makedirs(output_dir)\n",
        "\n",
        "# Loop through video frames and save as PNG images\n",
        "frame_count = 0\n",
        "while cap.isOpened():\n",
        "  ret, frame = cap.read()\n",
        "  if not ret:\n",
        "    break\n",
        "  frame_count += 1\n",
        "  frame_path = os.path.join(output_dir, f'{video_name}_frame_{frame_count:06}.png')\n",
        "  cv2.imwrite(frame_path, frame)\n",
        "\n",
        "# Release video capture and print success message\n",
        "cap.release()\n",
        "print(f'Successfully saved {frame_count} frames as PNG images to {output_dir}')"
      ]
    }
  ]
}